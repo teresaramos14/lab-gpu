{
 "cells": [
  {
   "cell_type": "markdown",
   "id": "f942d288-be01-42cd-9b84-83529c6769be",
   "metadata": {},
   "source": [
    "## Reduction operation: the sum of the numbers in the range [0, value)"
   ]
  },
  {
   "cell_type": "code",
   "execution_count": 3,
   "id": "496946fa-2a28-4c1d-8a6a-2ee0b8fd8ced",
   "metadata": {},
   "outputs": [
    {
     "name": "stdout",
     "output_type": "stream",
     "text": [
      "Time taken by reduction operation using a function: 45.1 ms ± 329 µs per loop (mean ± std. dev. of 2 runs, 10 loops each)\n",
      "And the result of the sum of numbers in the range [0, value) is: 25038.4400498458\n",
      "\n",
      "Time taken by reduction operation using numpy.sum(): 90.7 µs ± 756 ns per loop (mean ± std. dev. of 2 runs, 10,000 loops each)\n",
      "Now, the result using numpy.sum(): 25038.44004984582 \n",
      " \n",
      "Time taken by reduction operation using numpy.ndarray.sum(): 71.5 µs ± 59.8 ns per loop (mean ± std. dev. of 2 runs, 10,000 loops each)\n",
      "Now, the result using numpy.ndarray.sum(): 25038.44004984582\n"
     ]
    }
   ],
   "source": [
    "import numpy as np\n",
    "import sys\n",
    "\n",
    "def reduc_operation(A):\n",
    "    \"\"\"Compute the sum of the elements of Array A in the range [0, value).\"\"\"\n",
    "    s = 0\n",
    "    for i in range(A.size):\n",
    "        s += A[i]\n",
    "    return s\n",
    "\n",
    "# Secuencial\n",
    "\n",
    "value =  int(sys.argv[1])\n",
    "\n",
    "X = np.random.rand(value)\n",
    "\n",
    "# Para imprimir los pimeros valores del array\n",
    "\n",
    "#print(X[0:12])\n",
    "\n",
    "# Utilizando las operaciones mágicas de ipython\n",
    "\n",
    "tiempo = %timeit -r 2 -o -q reduc_operation(X)\n",
    "\n",
    "print(\"Time taken by reduction operation using a function:\", tiempo)\n",
    "\n",
    "\n",
    "print(f\"And the result of the sum of numbers in the range [0, value) is: {reduc_operation(X)}\\n\")\n",
    "\n",
    "\n",
    "# Utilizando numpy.sum()\n",
    "\n",
    "tiempo = %timeit -r 2 -o -q np.sum(X)\n",
    "\n",
    "print(\"Time taken by reduction operation using numpy.sum():\", tiempo)\n",
    "\n",
    "print(\"Now, the result using numpy.sum():\", np.sum(X),\"\\n \")\n",
    "\n",
    "\n",
    "# Utilizando numpy.ndarray.sum()\n",
    "\n",
    "tiempo= %timeit -r 2 -o -q X.sum()\n",
    "\n",
    "print(\"Time taken by reduction operation using numpy.ndarray.sum():\", tiempo)\n",
    "\n",
    "print(\"Now, the result using numpy.ndarray.sum():\", X.sum())\n",
    "\n",
    "\n"
   ]
  },
  {
   "cell_type": "markdown",
   "id": "95ddbcf7-fae3-4b11-b0e3-b297d6110d22",
   "metadata": {},
   "source": [
    "### Apartado 3.2 A: Libreria multiprocessing"
   ]
  },
  {
   "cell_type": "code",
   "execution_count": 1,
   "id": "20349d3c-b1ed-47f3-b4cb-73d02e57a2b6",
   "metadata": {},
   "outputs": [
    {
     "name": "stdout",
     "output_type": "stream",
     "text": [
      "Tiempo para 1 proceso: 44.91555571556091 segundos\n",
      "Suma con 1 proceso: 25002501.091214877\n",
      "Tiempo para 2 procesos: 26.139862060546875 segundos\n",
      "Suma con 2 procesos: 25002501.091219656\n",
      "Tiempo para 4 procesos: 13.552160739898682 segundos\n",
      "Suma con 4 procesos: 25002501.091222055\n"
     ]
    }
   ],
   "source": [
    "import numpy as np\n",
    "import time\n",
    "import multiprocessing\n",
    "import sys\n",
    "from multiprocessing import Pool\n",
    "\n",
    "# Función para calcular la suma de un array\n",
    "def reduc_operation(A):\n",
    "    \"\"\"Calcula la suma de los elementos del Array A.\"\"\"\n",
    "    s = 0\n",
    "    for i in range(A.size):\n",
    "        s += A[i]\n",
    "    return s\n",
    "\n",
    "if __name__ == \"__main__\":\n",
    "    #Crear un array de 50,000 elementos con valores aleatorios entre 0 y 1\n",
    "    value =  int(sys.argv[1])\n",
    "    X = np.random.rand(value)\n",
    "    \n",
    "    #Medicion del tiempo para un solo proceso\n",
    "    start_time1 = time.time()  \n",
    "    result1 = reduc_operation(X) \n",
    "    end_time1 = time.time()  \n",
    "    \n",
    "    #Tiempo y suma para 1 solo proceso\n",
    "    print(f\"Tiempo para 1 proceso: {end_time1 - start_time1} segundos\")\n",
    "    print(f\"Suma con 1 proceso: {result1}\")\n",
    "\n",
    "    #Dos procesos\n",
    "    mitad = int(value / 2)  \n",
    "    partes2 = [X[:mitad], X[mitad:]]\n",
    "    \n",
    "    #Medicion del tiempo para dos procesos\n",
    "    start_time2 = time.time()  \n",
    "    with Pool(processes=2) as pool:\n",
    "        result2 = pool.map(reduc_operation, partes2)  #Sumar las mitades en paralelo\n",
    "    suma2procesos = sum(result2)  #Combinar las sumas parciales\n",
    "    end_time2 = time.time()  \n",
    "    \n",
    "    #Tiempo y suma para dos procesos\n",
    "    print(f\"Tiempo para 2 procesos: {end_time2 - start_time2} segundos\")\n",
    "    print(f\"Suma con 2 procesos: {suma2procesos}\")\n",
    "\n",
    "    #Cuatro procesos: [0, int(value/4)], [int(value/4), int(value/2)], [int(value/2), int(3*value/4)], [int(3*value/4), value]\n",
    "    cuartaparte = int(value/4)\n",
    "    partes3 = [X[:cuartaparte],X[cuartaparte:mitad],X[mitad:3*cuartaparte],X[3*cuartaparte:]]\n",
    "\n",
    "    #Medicion del tiempo para 4 procesos\n",
    "    start_time3 = time.time()\n",
    "    with Pool(processes=4) as pool:\n",
    "        result3 = pool.map(reduc_operation, partes3)\n",
    "    suma3procesos = sum(result3)\n",
    "    end_time3 = time.time()\n",
    "    \n",
    "    #Tiempo y suma para cuatro procesos\n",
    "    print(f\"Tiempo para 4 procesos: {end_time3 - start_time3} segundos\")\n",
    "    print(f\"Suma con 4 procesos: {suma3procesos}\")\n",
    "\n",
    "\n",
    "\n",
    "\n",
    "        \n",
    "    \n"
   ]
  },
  {
   "cell_type": "markdown",
   "id": "dca34d40-cee3-4766-a6ab-de1f8fb8b250",
   "metadata": {},
   "source": [
    "### Apartado 3.2 B: Libreria Numba"
   ]
  },
  {
   "cell_type": "code",
   "execution_count": 22,
   "id": "5f2aa254-55f4-4dad-825b-bd0608478a54",
   "metadata": {},
   "outputs": [
    {
     "name": "stdout",
     "output_type": "stream",
     "text": [
      "Tiempo con reduccion secuencial: \n",
      "197 ms ± 965 µs per loop (mean ± std. dev. of 4 runs, 10 loops each)\n",
      "Tiempo con reduccion paralela: \n",
      "11.3 ms ± 45.8 µs per loop (mean ± std. dev. of 4 runs, 100 loops each)\n"
     ]
    }
   ],
   "source": [
    "from numba import njit, prange\n",
    "\n",
    "\n",
    "@njit\n",
    "def reduc_operation(A):\n",
    "    s = 0\n",
    "    for i in range(A.size):\n",
    "        s += A[i]\n",
    "    return s\n",
    "    \n",
    "@njit(parallel=True)\n",
    "def reduc_operation_parallel(A):\n",
    "    s = 0\n",
    "    for i in prange(A.size):\n",
    "        s += A[i]\n",
    "    return s\n",
    "    \n",
    "value =  int(sys.argv[1])\n",
    "X = np.random.rand(value)\n",
    "result = reduc_operation(X)\n",
    "result_parallel = reduc_operation_parallel(X)\n",
    "\n",
    "print(\"Tiempo con reduccion secuencial: \") \n",
    "%timeit -r 4 reduc_operation(X)\n",
    "print(\"Tiempo con reduccion paralela: \") \n",
    "%timeit -r 4 reduc_operation_parallel(X)"
   ]
  }
 ],
 "metadata": {
  "kernelspec": {
   "display_name": "Python 3 (ipykernel)",
   "language": "python",
   "name": "python3"
  },
  "language_info": {
   "codemirror_mode": {
    "name": "ipython",
    "version": 3
   },
   "file_extension": ".py",
   "mimetype": "text/x-python",
   "name": "python",
   "nbconvert_exporter": "python",
   "pygments_lexer": "ipython3",
   "version": "3.10.9"
  }
 },
 "nbformat": 4,
 "nbformat_minor": 5
}
