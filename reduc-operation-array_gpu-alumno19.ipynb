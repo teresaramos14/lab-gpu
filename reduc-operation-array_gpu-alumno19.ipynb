{
 "cells": [
  {
   "cell_type": "markdown",
   "id": "f942d288-be01-42cd-9b84-83529c6769be",
   "metadata": {},
   "source": [
    "## Reduction operation: the sum of the numbers in the range [0, value)"
   ]
  },
  {
   "cell_type": "code",
   "execution_count": 2,
   "id": "496946fa-2a28-4c1d-8a6a-2ee0b8fd8ced",
   "metadata": {
    "scrolled": true
   },
   "outputs": [
    {
     "name": "stdout",
     "output_type": "stream",
     "text": [
      "Time taken by reduction operation using a function: 4.93 ms ± 33.7 µs per loop (mean ± std. dev. of 2 runs, 100 loops each)\n",
      "And the result of the sum of numbers in the range [0, value) is: 25087.236671455674\n",
      "\n",
      "Time taken by reduction operation using numpy.sum(): 13.4 µs ± 15.9 ns per loop (mean ± std. dev. of 2 runs, 100,000 loops each)\n",
      "Now, the result using numpy.sum(): 25087.23667145522 \n",
      " \n",
      "Time taken by reduction operation using numpy.ndarray.sum(): 11.9 µs ± 35 ns per loop (mean ± std. dev. of 2 runs, 100,000 loops each)\n",
      "Now, the result using numpy.ndarray.sum(): 25087.23667145522\n"
     ]
    }
   ],
   "source": [
    "import numpy as np\n",
    "import sys\n",
    "\n",
    "def reduc_operation(A):\n",
    "    \"\"\"Compute the sum of the elements of Array A in the range [0, value).\"\"\"\n",
    "    s = 0\n",
    "    for i in range(A.size):\n",
    "        s += A[i]\n",
    "    return s\n",
    "\n",
    "# Secuencial\n",
    "\n",
    "value = int(sys.argv[1])\n",
    "\n",
    "X = np.random.rand(value)\n",
    "\n",
    "# Para imprimir los pimeros valores del array\n",
    "\n",
    "# print(X[0:12])\n",
    "\n",
    "# Utilizando las operaciones mágicas de ipython\n",
    "\n",
    "tiempo = %timeit -r 2 -o -q reduc_operation(X)\n",
    "\n",
    "print(\"Time taken by reduction operation using a function:\", tiempo)\n",
    "\n",
    "\n",
    "print(f\"And the result of the sum of numbers in the range [0, value) is: {reduc_operation(X)}\\n\")\n",
    "\n",
    "\n",
    "# Utilizando numpy.sum()\n",
    "\n",
    "tiempo = %timeit -r 2 -o -q np.sum(X)\n",
    "\n",
    "print(\"Time taken by reduction operation using numpy.sum():\", tiempo)\n",
    "\n",
    "print(\"Now, the result using numpy.sum():\", np.sum(X),\"\\n \")\n",
    "\n",
    "\n",
    "# Utilizando numpy.ndarray.sum()\n",
    "\n",
    "tiempo= %timeit -r 2 -o -q X.sum()\n",
    "\n",
    "print(\"Time taken by reduction operation using numpy.ndarray.sum():\", tiempo)\n",
    "\n",
    "print(\"Now, the result using numpy.ndarray.sum():\", X.sum())\n",
    "\n",
    "\n"
   ]
  },
  {
   "cell_type": "markdown",
   "id": "609f30d0-a715-46f4-a9b9-385d7ff2e30a",
   "metadata": {},
   "source": [
    "### Apartado A. Librería cupy"
   ]
  },
  {
   "cell_type": "code",
   "execution_count": 4,
   "id": "01027bdd-594d-4ea3-a6fd-218f31d4f3c2",
   "metadata": {},
   "outputs": [
    {
     "name": "stdout",
     "output_type": "stream",
     "text": [
      "Tiempo de ejecución de reduc_operation: 0.4836995601654053 segundos\n",
      "Tiempo de ejecución de cp.sum: 0.0003311634063720703 segundos\n"
     ]
    }
   ],
   "source": [
    "import numpy as np\n",
    "import cupy as cp\n",
    "import time\n",
    "from numba import cuda\n",
    "import sys\n",
    "\n",
    "def reduc_operation(A):\n",
    "    \"\"\"Compute the sum of the elements of Array A in the range [0, value).\"\"\"\n",
    "    s = 0\n",
    "    for i in range(A.size):\n",
    "        s += A[i]\n",
    "    return s\n",
    "\n",
    "\n",
    "value =int(sys.argv[1])\n",
    "X= cp.random.rand(value)\n",
    "\n",
    "\n",
    "# Medir el tiempo para reduc_operation\n",
    "start_time = time.time()\n",
    "result = reduc_operation(X)\n",
    "cp.cuda.Device().synchronize()\n",
    "end_time = time.time()\n",
    "print(f\"Tiempo de ejecución de reduc_operation: {end_time - start_time} segundos\")\n",
    "\n",
    "# Medir el tiempo para numpy.sum()\n",
    "start_time = time.time()\n",
    "result_cp = cp.sum(X) \n",
    "cp.cuda.Device().synchronize()\n",
    "end_time = time.time()\n",
    "print(f\"Tiempo de ejecución de cp.sum: {end_time - start_time} segundos\")\n"
   ]
  },
  {
   "cell_type": "markdown",
   "id": "dff36696-f9be-4b33-b5ca-e2e26dfef36d",
   "metadata": {},
   "source": [
    "### Apartado C y D"
   ]
  },
  {
   "cell_type": "markdown",
   "id": "079163aa-76b7-4ea4-9e62-c07ac0af9af6",
   "metadata": {},
   "source": [
    "Resultados:\n",
    "-Lanzado con valor 5000000:\n",
    "Time taken by reduction operation using numpy.sum(): 1.35 ms ± 18.3 ns per loop (mean ± std. dev. of 2 runs, 1,000 loops each)\n",
    "Time taken by reduction operation using numpy.ndarray.sum(): 1.34 ms ± 1.56 µs per loop (mean ± std. dev. of 2 runs, 1,000 loops each)\n",
    "Tiempo de ejecución de cp.sum: 0.015525341033935547 segundos\n",
    "\n",
    "-Lanzado con valor 50000000:\n",
    "Time taken by reduction operation using numpy.sum(): 17.7 ms ± 718 ns per loop (mean ± std. dev. of 2 runs, 100 loops each)\n",
    "Time taken by reduction operation using numpy.ndarray.sum(): 17.7 ms ± 1.42 µs per loop (mean ± std. dev. of 2 runs, 100 loops each)\n",
    "Tiempo de ejecución de cp.sum: 0.38386011123657227 segundos\n",
    "\n",
    "-Lanzado con valor 500000000:\n",
    "Time taken by reduction operation using numpy.sum(): 180 ms ± 156 µs per loop (mean ± std. dev. of 2 runs, 10 loops each)\n",
    "Time taken by reduction operation using numpy.ndarray.sum(): 180 ms ± 19.1 µs per loop (mean ± std. dev. of 2 runs, 10 loops each)\n",
    "Tiempo de ejecución de cp.sum: 0.02091526985168457 segundos\n",
    "\n",
    "Explicación:\n",
    "Para tamaños pequeños (5x10^6) e intermedios (5x10^7) es significativamente más lento que NumPy.\n",
    "Esto ocurre porque para tamaños pequeños, la transferencia de datos entre la CPU y la GPU en CuPy introduce una sobrecarga que no existe en NumPy. Mientras que NumPy opera directamente en la memoria principal de la CPU, CuPy debe mover los datos hacia y desde la memoria de la GPU, lo que puede tomar más tiempo que realizar la operación directamente en la CPU.\n",
    "Para tamaños grandes (5x10^8), el tiempo de ejecución es mucho menor que NumPy.\n",
    "Para datos grandes, las GPUs pueden manejar mejor la carga de trabajo debido a su paralelismo masivo, mientras que las CPUs se ven limitadas por su arquitectura secuencial. CuPy muestra una ventaja significativa porque la GPU ejecuta operaciones más rápido que la CPU y aprovecha mejor su memoria compartida."
   ]
  }
 ],
 "metadata": {
  "kernelspec": {
   "display_name": "Python 3 (ipykernel)",
   "language": "python",
   "name": "python3"
  },
  "language_info": {
   "codemirror_mode": {
    "name": "ipython",
    "version": 3
   },
   "file_extension": ".py",
   "mimetype": "text/x-python",
   "name": "python",
   "nbconvert_exporter": "python",
   "pygments_lexer": "ipython3",
   "version": "3.8.17"
  }
 },
 "nbformat": 4,
 "nbformat_minor": 5
}
